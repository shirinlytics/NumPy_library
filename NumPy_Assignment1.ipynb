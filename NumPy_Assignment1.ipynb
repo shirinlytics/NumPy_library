{
 "cells": [
  {
   "cell_type": "markdown",
   "id": "b8947ed0",
   "metadata": {},
   "source": [
    "#                                  NumPy exercises"
   ]
  },
  {
   "cell_type": "markdown",
   "id": "7ec732f7",
   "metadata": {},
   "source": [
    "## Array creation"
   ]
  },
  {
   "cell_type": "code",
   "execution_count": null,
   "id": "2b60d509",
   "metadata": {},
   "outputs": [],
   "source": [
    "#Import NumPy library\n",
    "import sys\n",
    "import numpy as np"
   ]
  },
  {
   "cell_type": "code",
   "execution_count": 3,
   "id": "88ca8689",
   "metadata": {},
   "outputs": [
    {
     "data": {
      "text/plain": [
       "array([0., 0., 0., 0., 0., 0., 0., 0., 0., 0.])"
      ]
     },
     "execution_count": 3,
     "metadata": {},
     "output_type": "execute_result"
    }
   ],
   "source": [
    "#1 Create a numpy array of size 10, filled with zeros\n",
    "np.zeros(10)"
   ]
  },
  {
   "cell_type": "code",
   "execution_count": 10,
   "id": "11ef80bf",
   "metadata": {},
   "outputs": [
    {
     "name": "stdout",
     "output_type": "stream",
     "text": [
      "[10. 11. 12. 13. 14. 15. 16. 17. 18. 19. 20. 21. 22. 23. 24. 25. 26. 27.\n",
      " 28. 29. 30. 31. 32. 33. 34. 35. 36. 37. 38. 39. 40. 41. 42. 43. 44. 45.\n",
      " 46. 47. 48. 49.]\n"
     ]
    }
   ],
   "source": [
    "#2 Create a numpy array with values ranging from 10 to 49 and set its datatype to float\n",
    "a = np.arange(10,50 , dtype=float)\n",
    "print(a)"
   ]
  },
  {
   "cell_type": "code",
   "execution_count": 11,
   "id": "d8666f68",
   "metadata": {},
   "outputs": [
    {
     "data": {
      "text/plain": [
       "dtype('float64')"
      ]
     },
     "execution_count": 11,
     "metadata": {},
     "output_type": "execute_result"
    }
   ],
   "source": [
    "a.dtype"
   ]
  },
  {
   "cell_type": "code",
   "execution_count": 14,
   "id": "f3c64a14",
   "metadata": {},
   "outputs": [
    {
     "name": "stdout",
     "output_type": "stream",
     "text": [
      "[[1 1]\n",
      " [1 1]]\n"
     ]
    }
   ],
   "source": [
    "#3 Create a numpy matrix of 2*2 integers, filled with ones.\n",
    "matrix = np.ones((2,2), dtype=int)\n",
    "print(matrix)"
   ]
  },
  {
   "cell_type": "code",
   "execution_count": 15,
   "id": "9585d56e",
   "metadata": {},
   "outputs": [
    {
     "name": "stdout",
     "output_type": "stream",
     "text": [
      "[[1. 1.]\n",
      " [1. 1.]\n",
      " [1. 1.]]\n"
     ]
    }
   ],
   "source": [
    "#4 Create a numpy matrix of 3*2 float numbers, filled with ones.\n",
    "matrix1 = np.ones((3,2), dtype=float)\n",
    "print(matrix1)"
   ]
  },
  {
   "cell_type": "code",
   "execution_count": 26,
   "id": "9e5277eb",
   "metadata": {},
   "outputs": [
    {
     "name": "stdout",
     "output_type": "stream",
     "text": [
      "[[9 3]\n",
      " [4 8]]\n",
      "[[1 1]\n",
      " [1 1]]\n"
     ]
    },
    {
     "data": {
      "text/plain": [
       "dtype('int32')"
      ]
     },
     "execution_count": 26,
     "metadata": {},
     "output_type": "execute_result"
    }
   ],
   "source": [
    "#5.Given the X numpy array, create a new numpy array with the same shape and type as X, filled with ones. \n",
    "#hint: search the function np.ones_like( ) )\n",
    "X = np.array([[9,3],[4,8]])\n",
    "print(X)\n",
    "Y = np.ones_like(X)\n",
    "print(Y)\n",
    "Y.dtype"
   ]
  },
  {
   "cell_type": "code",
   "execution_count": 31,
   "id": "085b0ff8",
   "metadata": {},
   "outputs": [
    {
     "name": "stdout",
     "output_type": "stream",
     "text": [
      "[[0 0]\n",
      " [0 0]]\n"
     ]
    },
    {
     "data": {
      "text/plain": [
       "dtype('int32')"
      ]
     },
     "execution_count": 31,
     "metadata": {},
     "output_type": "execute_result"
    }
   ],
   "source": [
    "#6 Given the X numpy matrix, create a new numpy matrix with the same shape and type as X, filled with zeros\n",
    "Z = np.zeros_like(X)\n",
    "print(Z)\n",
    "Z.dtype"
   ]
  },
  {
   "cell_type": "code",
   "execution_count": 33,
   "id": "7ec3793a",
   "metadata": {},
   "outputs": [
    {
     "name": "stdout",
     "output_type": "stream",
     "text": [
      "[[5 5 5 5]\n",
      " [5 5 5 5]\n",
      " [5 5 5 5]\n",
      " [5 5 5 5]]\n"
     ]
    }
   ],
   "source": [
    "#7 Create a numpy matrix of 4*4 integers, filled with fives\n",
    "\n",
    "x_matrix = np.full([4,4],5, dtype=int)\n",
    "print(x_matrix)"
   ]
  },
  {
   "cell_type": "code",
   "execution_count": 37,
   "id": "f64f0167",
   "metadata": {},
   "outputs": [
    {
     "name": "stdout",
     "output_type": "stream",
     "text": [
      "[[7 7 7 7]\n",
      " [7 7 7 7]\n",
      " [7 7 7 7]\n",
      " [7 7 7 7]]\n"
     ]
    }
   ],
   "source": [
    "#8 Given the X numpy matrix, create a new numpy matrix with the same shape and type as X, filled with sevens\n",
    "x_matrix = np.full([4,4],5, dtype=int)\n",
    "Ymatrix = np.full_like(x_matrix, 7)\n",
    "print(Ymatrix)"
   ]
  },
  {
   "cell_type": "code",
   "execution_count": 53,
   "id": "49c24f2a",
   "metadata": {},
   "outputs": [
    {
     "name": "stdout",
     "output_type": "stream",
     "text": [
      "One way [[1 0 0]\n",
      " [0 1 0]\n",
      " [0 0 1]]\n",
      "second way [[1. 0. 0.]\n",
      " [0. 1. 0.]\n",
      " [0. 0. 1.]]\n",
      "third way [[1. 0. 0.]\n",
      " [0. 1. 0.]\n",
      " [0. 0. 1.]]\n"
     ]
    }
   ],
   "source": [
    "#9 Create a 3*3 identity numpy matrix with ones on the diagonal and zeros elsewhere.\n",
    "#a\n",
    "i_matrix =np.array([[1,0,0],[0,1,0], [0,0,1]])\n",
    "print(\"One way\", i_matrix)\n",
    "\n",
    "#b\n",
    "identity_matrix = np.identity(3)\n",
    "print(\"second way\",identity_matrix)\n",
    "\n",
    "#c\n",
    "identity_matrix = np.eye(3)\n",
    "print(\"third way\" , identity_matrix)"
   ]
  },
  {
   "cell_type": "code",
   "execution_count": 56,
   "id": "2dcc2fe3",
   "metadata": {},
   "outputs": [
    {
     "name": "stdout",
     "output_type": "stream",
     "text": [
      "[6 5 3]\n"
     ]
    }
   ],
   "source": [
    "#10 Create a numpy array, filled with 3 random integer values between 1 and 10\n",
    "\n",
    "random = np.random.randint(10, size=3)\n",
    "print(random)"
   ]
  },
  {
   "cell_type": "code",
   "execution_count": 58,
   "id": "272c1268",
   "metadata": {},
   "outputs": [
    {
     "name": "stdout",
     "output_type": "stream",
     "text": [
      "[[[0.53477302 0.31187331 0.61015294]\n",
      "  [0.94831182 0.71952588 0.41709439]\n",
      "  [0.17847097 0.7940066  0.78567664]]\n",
      "\n",
      " [[0.0094916  0.00210303 0.19826726]\n",
      "  [0.8060838  0.29500072 0.11106534]\n",
      "  [0.20043684 0.73411029 0.0406565 ]]\n",
      "\n",
      " [[0.97781872 0.01971422 0.15231718]\n",
      "  [0.87692707 0.12574279 0.1721557 ]\n",
      "  [0.94415769 0.4714889  0.26972953]]]\n"
     ]
    }
   ],
   "source": [
    "#11 Create a 3*3*3 numpy matrix, filled with random float values\n",
    "random_2 = np.random.rand(3,3,3)\n",
    "print(random_2)"
   ]
  },
  {
   "cell_type": "code",
   "execution_count": 60,
   "id": "46bd0c14",
   "metadata": {},
   "outputs": [
    {
     "name": "stdout",
     "output_type": "stream",
     "text": [
      "[ 1  2  3  4  5  6  7  8  9 10]\n"
     ]
    }
   ],
   "source": [
    "#12 Create a numpy array with numbers from 1 to 10\n",
    "array = np.arange(1,11)\n",
    "print(array)"
   ]
  },
  {
   "cell_type": "code",
   "execution_count": 61,
   "id": "05780ab9",
   "metadata": {},
   "outputs": [
    {
     "name": "stdout",
     "output_type": "stream",
     "text": [
      "[1 3 5 7 9]\n"
     ]
    }
   ],
   "source": [
    "#13 Create a numpy array with the odd numbers between 1 to 10\n",
    "array_odd = np.arange(1,10, step=2)\n",
    "print(array_odd)"
   ]
  },
  {
   "cell_type": "code",
   "execution_count": 62,
   "id": "02315ecc",
   "metadata": {},
   "outputs": [
    {
     "name": "stdout",
     "output_type": "stream",
     "text": [
      "[10  9  8  7  6  5  4  3  2  1]\n"
     ]
    }
   ],
   "source": [
    "#14 Create a numpy array with numbers from 1 to 10, in descending order.\n",
    "desc_array = np.flip(np.arange(1,11))\n",
    "print(desc_array)"
   ]
  },
  {
   "cell_type": "code",
   "execution_count": 68,
   "id": "36d749f6",
   "metadata": {},
   "outputs": [
    {
     "data": {
      "text/plain": [
       "array([[0, 1, 2],\n",
       "       [3, 4, 5],\n",
       "       [6, 7, 8]])"
      ]
     },
     "execution_count": 68,
     "metadata": {},
     "output_type": "execute_result"
    }
   ],
   "source": [
    "#15 Create a 3*3 numpy matrix, filled with values ranging from 0 to 8\n",
    "np.arange(9).reshape(3, 3)"
   ]
  },
  {
   "cell_type": "markdown",
   "id": "a2efb467",
   "metadata": {},
   "source": [
    "## Array indexing"
   ]
  },
  {
   "cell_type": "code",
   "execution_count": 70,
   "id": "a35b5507",
   "metadata": {},
   "outputs": [
    {
     "data": {
      "text/plain": [
       "'A'"
      ]
     },
     "execution_count": 70,
     "metadata": {},
     "output_type": "execute_result"
    }
   ],
   "source": [
    "#1 Given the X numpy array, show its first element\n",
    "X = np.array(['A','B','C','D','E'])\n",
    "\n",
    "X[0]\n"
   ]
  },
  {
   "cell_type": "code",
   "execution_count": 71,
   "id": "f8106e4f",
   "metadata": {},
   "outputs": [
    {
     "data": {
      "text/plain": [
       "'E'"
      ]
     },
     "execution_count": 71,
     "metadata": {},
     "output_type": "execute_result"
    }
   ],
   "source": [
    "#2 Given the X numpy array, show its last element\n",
    "X = np.array(['A','B','C','D','E'])\n",
    "X[-1]\n"
   ]
  },
  {
   "cell_type": "code",
   "execution_count": 73,
   "id": "fb9d52d2",
   "metadata": {},
   "outputs": [
    {
     "data": {
      "text/plain": [
       "array(['A', 'B', 'C'], dtype='<U1')"
      ]
     },
     "execution_count": 73,
     "metadata": {},
     "output_type": "execute_result"
    }
   ],
   "source": [
    "#3 Given the X numpy array, show its first three elements\n",
    "X = np.array(['A','B','C','D','E'])\n",
    "\n",
    "X[:3]"
   ]
  },
  {
   "cell_type": "code",
   "execution_count": 74,
   "id": "1630fe62",
   "metadata": {},
   "outputs": [
    {
     "data": {
      "text/plain": [
       "array(['B', 'C', 'D'], dtype='<U1')"
      ]
     },
     "execution_count": 74,
     "metadata": {},
     "output_type": "execute_result"
    }
   ],
   "source": [
    "#4 Given the X numpy array, show all middle elements\n",
    "X = np.array(['A','B','C','D','E'])\n",
    "\n",
    "X[1:4]"
   ]
  },
  {
   "cell_type": "code",
   "execution_count": 75,
   "id": "fae5b534",
   "metadata": {},
   "outputs": [
    {
     "data": {
      "text/plain": [
       "array(['E', 'D', 'C', 'B', 'A'], dtype='<U1')"
      ]
     },
     "execution_count": 75,
     "metadata": {},
     "output_type": "execute_result"
    }
   ],
   "source": [
    "#5 Given the X numpy array, show the elements in reverse position.\n",
    "X = np.array(['A','B','C','D','E'])\n",
    "np.flip(X)"
   ]
  },
  {
   "cell_type": "code",
   "execution_count": 85,
   "id": "76bc915b",
   "metadata": {},
   "outputs": [
    {
     "data": {
      "text/plain": [
       "array(['B', 'D'], dtype='<U1')"
      ]
     },
     "execution_count": 85,
     "metadata": {},
     "output_type": "execute_result"
    }
   ],
   "source": [
    "#6 Given the X numpy array, show the elements in an odd position.\n",
    "X = np.array(['A','B','C','D','E'])\n",
    "X[1::2]"
   ]
  },
  {
   "cell_type": "code",
   "execution_count": 87,
   "id": "f966ae8a",
   "metadata": {},
   "outputs": [
    {
     "data": {
      "text/plain": [
       "array([1, 2, 3, 4])"
      ]
     },
     "execution_count": 87,
     "metadata": {},
     "output_type": "execute_result"
    }
   ],
   "source": [
    "#7 Given the X numpy matrix, show the first row’s elements.\n",
    "X = np.array([ [1,   2,  3,  4],\n",
    "    [5,   6,  7,  8],\n",
    "    [9,  10, 11, 12],\n",
    "    [13, 14, 15, 16]])\n",
    "\n",
    "X[0][:]"
   ]
  },
  {
   "cell_type": "code",
   "execution_count": 88,
   "id": "2a789203",
   "metadata": {},
   "outputs": [
    {
     "data": {
      "text/plain": [
       "array([13, 14, 15, 16])"
      ]
     },
     "execution_count": 88,
     "metadata": {},
     "output_type": "execute_result"
    }
   ],
   "source": [
    "#8 Given the X numpy matrix, show the last row elements.\n",
    "X = np.array([\n",
    "    [1,   2,  3,  4],\n",
    "    [5,   6,  7,  8],\n",
    "    [9,  10, 11, 12],\n",
    "    [13, 14, 15, 16]])\n",
    "\n",
    "X[-1][:]"
   ]
  },
  {
   "cell_type": "code",
   "execution_count": 89,
   "id": "3c64635a",
   "metadata": {},
   "outputs": [
    {
     "data": {
      "text/plain": [
       "1"
      ]
     },
     "execution_count": 89,
     "metadata": {},
     "output_type": "execute_result"
    }
   ],
   "source": [
    "#9 Given the X numpy matrix, show the first element on first row\n",
    "X = np.array([\n",
    "    [1, 2, 3, 4],\n",
    "    [5, 6, 7, 8],\n",
    "    [9, 10, 11, 12],\n",
    "    [13, 14, 15, 16]])\n",
    "\n",
    "X[0][0]"
   ]
  },
  {
   "cell_type": "code",
   "execution_count": 90,
   "id": "e0a49e52",
   "metadata": {},
   "outputs": [
    {
     "data": {
      "text/plain": [
       "16"
      ]
     },
     "execution_count": 90,
     "metadata": {},
     "output_type": "execute_result"
    }
   ],
   "source": [
    "#10 Given the X numpy matrix, show the last element on last row.\n",
    "X = np.array([\n",
    "    [1,   2,  3,  4],\n",
    "    [5,   6,  7,  8],\n",
    "    [9,  10, 11, 12],\n",
    "    [13, 14, 15, 16]])\n",
    "\n",
    "X[-1][-1]"
   ]
  },
  {
   "cell_type": "code",
   "execution_count": 96,
   "id": "90ae3f46",
   "metadata": {},
   "outputs": [
    {
     "data": {
      "text/plain": [
       "array([[1, 2],\n",
       "       [5, 6]])"
      ]
     },
     "execution_count": 96,
     "metadata": {},
     "output_type": "execute_result"
    }
   ],
   "source": [
    "#11 Given the X numpy matrix, show the first two elements on the first two rows.\n",
    "X = np.array([\n",
    "    [1,   2,  3,  4],\n",
    "    [5,   6,  7,  8],\n",
    "    [9,  10, 11, 12],\n",
    "    [13, 14, 15, 16]])\n",
    "\n",
    "X[:2, :2]\n"
   ]
  },
  {
   "cell_type": "code",
   "execution_count": 98,
   "id": "bf609680",
   "metadata": {},
   "outputs": [
    {
     "data": {
      "text/plain": [
       "array([[11, 12],\n",
       "       [15, 16]])"
      ]
     },
     "execution_count": 98,
     "metadata": {},
     "output_type": "execute_result"
    }
   ],
   "source": [
    "#12 Given the X numpy matrix, show the last two elements on the last two rows\n",
    "X = np.array([\n",
    "    [1,   2,  3,  4],\n",
    "    [5,   6,  7,  8],\n",
    "    [9,  10, 11, 12],\n",
    "    [13, 14, 15, 16]])\n",
    "\n",
    "X[-2:, -2:]\n"
   ]
  },
  {
   "cell_type": "markdown",
   "id": "9d227c8f",
   "metadata": {},
   "source": [
    "## Array manipulation"
   ]
  },
  {
   "cell_type": "code",
   "execution_count": 103,
   "id": "05aa6885",
   "metadata": {},
   "outputs": [
    {
     "name": "stdout",
     "output_type": "stream",
     "text": [
      "[-5. -3.  0. 10. 40.]\n"
     ]
    }
   ],
   "source": [
    "#1 Convert the given integer numpy array to float\n",
    "X = np.array([-5, -3, 0, 10, 40])\n",
    "float_x = X.astype(float)\n",
    "print(float_x)"
   ]
  },
  {
   "cell_type": "code",
   "execution_count": 108,
   "id": "6e382dbc",
   "metadata": {},
   "outputs": [
    {
     "data": {
      "text/plain": [
       "array([40, 10,  0, -3, -5])"
      ]
     },
     "execution_count": 108,
     "metadata": {},
     "output_type": "execute_result"
    }
   ],
   "source": [
    "#2 Reverse the given numpy array (first element becomes last) through indexing\n",
    "X = np.array([-5, -3, 0, 10, 40])\n",
    "X[::-1]\n"
   ]
  },
  {
   "cell_type": "code",
   "execution_count": 113,
   "id": "f3f89a77",
   "metadata": {},
   "outputs": [
    {
     "name": "stdout",
     "output_type": "stream",
     "text": [
      "[0. 0. 0. 0. 1. 0. 0. 0. 0. 0.]\n"
     ]
    }
   ],
   "source": [
    "#3 Given the X numpy array, set the fifth element equal to 1\n",
    "X = np.zeros(10)\n",
    "X[4]=1\n",
    "print(X)"
   ]
  },
  {
   "cell_type": "code",
   "execution_count": 115,
   "id": "526d23aa",
   "metadata": {},
   "outputs": [
    {
     "name": "stdout",
     "output_type": "stream",
     "text": [
      "[[ 1  2  3  4]\n",
      " [ 5  6  7  8]\n",
      " [ 9 10 11 12]\n",
      " [ 1  1  1  1]]\n"
     ]
    }
   ],
   "source": [
    "#4 Given the X numpy matrix, change the last row with all 1\n",
    "X = np.array([\n",
    "    [1,   2,  3,  4],\n",
    "    [5,   6,  7,  8],\n",
    "    [9,  10, 11, 12],\n",
    "    [13, 14, 15, 16]])\n",
    "\n",
    "X[-1] = 1\n",
    "print(X)"
   ]
  },
  {
   "cell_type": "code",
   "execution_count": 117,
   "id": "0a3ed988",
   "metadata": {},
   "outputs": [
    {
     "name": "stdout",
     "output_type": "stream",
     "text": [
      "[[ 6  7  8  9]\n",
      " [10 11 12 13]\n",
      " [14 15 16 17]\n",
      " [18 19 20 21]]\n"
     ]
    }
   ],
   "source": [
    "#5 Given the X numpy matrix, add 5 to every element\n",
    "X = np.array([\n",
    "    [1,   2,  3,  4],\n",
    "    [5,   6,  7,  8],\n",
    "    [9,  10, 11, 12],\n",
    "    [13, 14, 15, 16]])\n",
    "\n",
    "sum = X + 5\n",
    "print(sum)"
   ]
  }
 ],
 "metadata": {
  "kernelspec": {
   "display_name": "Python 3 (ipykernel)",
   "language": "python",
   "name": "python3"
  },
  "language_info": {
   "codemirror_mode": {
    "name": "ipython",
    "version": 3
   },
   "file_extension": ".py",
   "mimetype": "text/x-python",
   "name": "python",
   "nbconvert_exporter": "python",
   "pygments_lexer": "ipython3",
   "version": "3.11.5"
  }
 },
 "nbformat": 4,
 "nbformat_minor": 5
}
